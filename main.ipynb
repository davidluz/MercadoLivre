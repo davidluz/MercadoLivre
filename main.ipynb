{
 "cells": [
  {
   "cell_type": "code",
   "execution_count": 163,
   "id": "ee915562-ebc7-4288-ae4f-9a7c1fa03672",
   "metadata": {},
   "outputs": [],
   "source": [
    "import pandas as pd\n",
    "import numpy as np"
   ]
  },
  {
   "cell_type": "code",
   "execution_count": 164,
   "id": "533c8721-b6d4-4de8-b25f-7e98b112d23b",
   "metadata": {},
   "outputs": [],
   "source": [
    "sample_items_meli = pd.read_csv('sample_items_meli.csv')\n",
    "# Caso queira limitar o número de amostras\n",
    "# sample_items_meli = sample_items_meli.iloc[:1500]"
   ]
  },
  {
   "cell_type": "code",
   "execution_count": 165,
   "id": "9ff36a6d-da7d-4985-9ec9-1a3ba0903e81",
   "metadata": {},
   "outputs": [
    {
     "data": {
      "text/plain": [
       "832"
      ]
     },
     "execution_count": 165,
     "metadata": {},
     "output_type": "execute_result"
    }
   ],
   "source": [
    "categorias_distintas = len(set(sample_items_meli['ITE_ITEM_DOM_DOMAIN_ID']))\n",
    "categorias_distintas"
   ]
  },
  {
   "cell_type": "code",
   "execution_count": 166,
   "id": "8b9559e7-01ad-4bb0-b2f3-490c4bb78a55",
   "metadata": {},
   "outputs": [],
   "source": [
    "# Importação das bibliotecas necessárias\n",
    "import pandas as pd\n",
    "import numpy as np\n",
    "from sklearn.decomposition import PCA, TruncatedSVD\n",
    "from sklearn.cluster import KMeans\n",
    "from sklearn.preprocessing import StandardScaler\n",
    "from sklearn.metrics.pairwise import cosine_similarity\n",
    "from PIL import Image\n",
    "import os\n",
    "\n",
    "# Função para obter produtos similares do mesmo cluster\n",
    "def obter_produtos_similares(df, item_id, top_n=5):\n",
    "    # Obtém o cluster do item especificado\n",
    "    cluster_id = df.loc[df['item_id'] == item_id, 'cluster'].values[0]\n",
    "    # Seleciona todos os itens que estão no mesmo cluster\n",
    "    itens_similares = df[df['cluster'] == cluster_id]\n",
    "    # Exclui o próprio item da lista de similares\n",
    "    itens_similares = itens_similares[itens_similares['item_id'] != item_id]\n",
    "    # Retorna os top_n itens similares\n",
    "    return itens_similares.head(top_n)\n"
   ]
  },
  {
   "cell_type": "code",
   "execution_count": null,
   "id": "6e92ba5b-3de4-4f92-9b08-c587cef56abb",
   "metadata": {},
   "outputs": [],
   "source": [
    "# Função para carregar e achatar as imagens\n",
    "def carregar_e_achatar_imagens(df, modo_cor='rgb', tamanho_imagem=(64, 64)):\n",
    "    imagens = []\n",
    "    ids = []\n",
    "    for idx, row in df.iterrows():\n",
    "        caminho_img = row['thumbnail_path']\n",
    "        try:\n",
    "            # Abre a imagem do caminho especificado\n",
    "            img = Image.open(caminho_img)\n",
    "            # Redimensiona a imagem para um tamanho padrão para uniformizar\n",
    "            img = img.resize(tamanho_imagem)\n",
    "            if modo_cor == 'grayscale':\n",
    "                # Converte a imagem para escala de cinza\n",
    "                img = img.convert('L')\n",
    "                # Converte a imagem em um array numpy e achata em um vetor 1D\n",
    "                img_array = np.array(img).flatten()\n",
    "            else:\n",
    "                # Garante que a imagem está em modo RGB\n",
    "                img = img.convert('RGB')\n",
    "                # Converte a imagem em um array numpy e achata em um vetor 1D\n",
    "                img_array = np.array(img).flatten()\n",
    "            # Adiciona o vetor de imagem à lista de imagens\n",
    "            imagens.append(img_array)\n",
    "            # Armazena o item_id correspondente\n",
    "            ids.append(row['item_id'])\n",
    "        except Exception as e:\n",
    "            # Em caso de erro ao carregar a imagem, imprime o erro e continua\n",
    "            print(f\"Erro ao carregar a imagem {caminho_img}: {e}\")\n",
    "            continue\n",
    "    # Retorna um array numpy das imagens e a lista de ids\n",
    "    return np.array(imagens), ids\n",
    "\n",
    "\n",
    "# === Recomendação usando imagens RGB ===\n",
    "# Carrega e achata as imagens em RGB\n",
    "imagens_rgb, ids_rgb = carregar_e_achatar_imagens(sample_items_meli, modo_cor='rgb', tamanho_imagem=(128, 128))\n",
    "print(len(imagens_rgb))\n",
    "print(len(ids_rgb))\n",
    "print(imagens_rgb[0])"
   ]
  },
  {
   "cell_type": "code",
   "execution_count": null,
   "id": "38e2d92e-8792-4686-9db0-edb465a245b2",
   "metadata": {},
   "outputs": [],
   "source": [
    "# Função para realizar PCA e clustering nas imagens\n",
    "def realizar_pca_clusterizacao(dados_imagem, n_componentes=50, n_clusters=10):\n",
    "    # Normaliza os dados para ter média zero e variância unitária\n",
    "    scaler = StandardScaler()\n",
    "    dados_imagem_escalados = scaler.fit_transform(dados_imagem)\n",
    "    \n",
    "    # Aplica PCA para reduzir a dimensionalidade dos dados\n",
    "    pca = PCA(n_components=n_componentes)\n",
    "    dados_imagem_pca = pca.fit_transform(dados_imagem_escalados)\n",
    "    \n",
    "    # Aplica KMeans para agrupar os dados em clusters\n",
    "    kmeans = KMeans(n_clusters=n_clusters, random_state=42)\n",
    "    clusters = kmeans.fit_predict(dados_imagem_pca)\n",
    "    \n",
    "    # Retorna os clusters e os dados transformados pelo PCA\n",
    "    return clusters, dados_imagem_pca\n",
    "\n",
    "\n",
    "# Realiza PCA e clustering nas imagens RGB\n",
    "clusters_rgb, pca_rgb = realizar_pca_clusterizacao(\n",
    "    imagens_rgb,\n",
    "    n_componentes=50,\n",
    "    n_clusters=categorias_distintas//2)\n",
    "print(len(clusters_rgb))\n",
    "print(len(pca_rgb))\n",
    "print(clusters_rgb.shape)\n",
    "print(pca_rgb.shape)\n",
    "print(pca_rgb[0])\n",
    "print(clusters_rgb)"
   ]
  },
  {
   "cell_type": "code",
   "execution_count": null,
   "id": "5f58273f-3f5d-4a12-9d25-42be1d2a4fe2",
   "metadata": {},
   "outputs": [],
   "source": [
    "# Adiciona os clusters ao DataFrame original\n",
    "sample_items_meli_rgb = sample_items_meli.copy()\n",
    "sample_items_meli_rgb['cluster'] = pd.Series(clusters_rgb, index=sample_items_meli_rgb.index)\n",
    "sample_items_meli_rgb"
   ]
  },
  {
   "cell_type": "code",
   "execution_count": null,
   "id": "4600a4d8-fb2c-4d10-a94e-e75a04affca7",
   "metadata": {},
   "outputs": [],
   "source": [
    "# Exemplo: Obtém produtos similares para um item específico usando clusters RGB\n",
    "item_id_exemplo = sample_items_meli_rgb['item_id'].iloc[42]\n",
    "produtos_similares_rgb = obter_produtos_similares(sample_items_meli_rgb, item_id_exemplo)\n",
    "print(f\"Produtos similares (RGB) para o item {item_id_exemplo}:\\n\", produtos_similares_rgb)"
   ]
  },
  {
   "cell_type": "code",
   "execution_count": null,
   "id": "45c5715d-3cf5-4341-921d-627ae41bac3c",
   "metadata": {},
   "outputs": [],
   "source": [
    "# === Recomendação usando imagens em escala de cinza ===\n",
    "# Carrega e achata as imagens em escala de cinza\n",
    "imagens_gray, ids_gray = carregar_e_achatar_imagens(sample_items_meli, modo_cor='grayscale', tamanho_imagem=(128, 128))\n",
    "\n",
    "# Realiza PCA e clustering nas imagens em escala de cinza\n",
    "clusters_gray, pca_gray = realizar_pca_clusterizacao(\n",
    "    imagens_gray, \n",
    "    n_componentes=50, \n",
    "    n_clusters=categorias_distintas//2)\n",
    "\n",
    "# Adiciona os clusters ao DataFrame original\n",
    "sample_items_meli_gray = sample_items_meli.copy()\n",
    "sample_items_meli_gray['cluster'] = pd.Series(clusters_gray, index=sample_items_meli_gray.index)\n",
    "\n",
    "# Exemplo: Obtém produtos similares para um item específico usando clusters em escala de cinza\n",
    "produtos_similares_gray = obter_produtos_similares(sample_items_meli_gray, item_id_exemplo)\n",
    "print(f\"Produtos similares (Escala de Cinza) para o item {item_id_exemplo}:\\n\", produtos_similares_gray)"
   ]
  },
  {
   "cell_type": "code",
   "execution_count": null,
   "id": "6cec267a-9892-408f-8d82-41f8d30a7679",
   "metadata": {},
   "outputs": [],
   "source": [
    "# === Recomendação usando SVD nas categorias compradas por cada usuário ===\n",
    "# Cria uma matriz de compra de usuário por categoria\n",
    "matriz_usuario_categoria = sample_items_meli.pivot_table(\n",
    "    index='buyer_ID',\n",
    "    columns='ITE_ITEM_DOM_DOMAIN_ID',\n",
    "    aggfunc='size',\n",
    "    fill_value=0\n",
    ")\n",
    "\n",
    "# Realiza a decomposição SVD\n",
    "svd = TruncatedSVD(n_components=50, random_state=42)\n",
    "fatores_usuario = svd.fit_transform(matriz_usuario_categoria)\n",
    "\n",
    "# Função para recomendar categorias baseadas em usuários similares\n",
    "def recomendar_categorias(usuario_id, fatores_usuario, matriz_usuario_categoria, top_n=5):\n",
    "    # Obtém o índice do usuário na matriz\n",
    "    idx_usuario = matriz_usuario_categoria.index.get_loc(usuario_id)\n",
    "    # Obtém o vetor de fatores do usuário\n",
    "    vetor_usuario = fatores_usuario[idx_usuario].reshape(1, -1)\n",
    "    # Calcula a similaridade coseno entre o usuário e todos os outros usuários\n",
    "    similaridades = cosine_similarity(vetor_usuario, fatores_usuario)[0]\n",
    "    # Ordena os usuários pela similaridade (excluindo o próprio usuário)\n",
    "    idx_usuarios_similares = np.argsort(-similaridades)[1:]\n",
    "    usuarios_similares = matriz_usuario_categoria.index[idx_usuarios_similares]\n",
    "    # Soma as categorias compradas pelos usuários similares\n",
    "    categorias = matriz_usuario_categoria.loc[usuarios_similares].sum()\n",
    "    # Remove as categorias que o usuário já comprou\n",
    "    categorias_usuario = matriz_usuario_categoria.loc[usuario_id]\n",
    "    categorias_recomendar = categorias[categorias_usuario == 0]\n",
    "    # Recomenda as top_n categorias\n",
    "    categorias_recomendadas = categorias_recomendar.sort_values(ascending=False).head(top_n).index.tolist()\n",
    "    return categorias_recomendadas\n",
    "\n",
    "# Exemplo: Recomenda categorias para um usuário específico\n",
    "usuario_id_exemplo = matriz_usuario_categoria.index[0]\n",
    "categorias_recomendadas = recomendar_categorias(usuario_id_exemplo, fatores_usuario, matriz_usuario_categoria)\n",
    "print(f\"Categorias recomendadas para o usuário {usuario_id_exemplo}:\\n\", categorias_recomendadas)\n"
   ]
  }
 ],
 "metadata": {
  "kernelspec": {
   "display_name": "Python 3 (ipykernel)",
   "language": "python",
   "name": "python3"
  },
  "language_info": {
   "codemirror_mode": {
    "name": "ipython",
    "version": 3
   },
   "file_extension": ".py",
   "mimetype": "text/x-python",
   "name": "python",
   "nbconvert_exporter": "python",
   "pygments_lexer": "ipython3",
   "version": "3.12.4"
  }
 },
 "nbformat": 4,
 "nbformat_minor": 5
}
